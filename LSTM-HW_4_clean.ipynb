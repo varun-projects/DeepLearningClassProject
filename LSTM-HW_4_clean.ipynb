{
 "cells": [
  {
   "cell_type": "markdown",
   "metadata": {
    "colab_type": "text",
    "id": "01R9hPGoeHHE"
   },
   "source": [
    "\n",
    "\n",
    "## Details about the input data\n",
    "\n",
    "I will be using an LSTM on the data \n",
    "\n"
   ]
  },
  {
   "cell_type": "code",
   "execution_count": 1,
   "metadata": {
    "colab": {},
    "colab_type": "code",
    "id": "7jg5VnEAeHHG"
   },
   "outputs": [],
   "source": [
    "# All Includes\n",
    "\n",
    "import numpy as np\n",
    "import matplotlib\n",
    "import matplotlib.pyplot as plt\n",
    "import tensorflow as tf  # Version 1.0.0 (some previous versions are used in past commits)\n",
    "from sklearn import metrics\n",
    "\n",
    "import os"
   ]
  },
  {
   "cell_type": "code",
   "execution_count": 2,
   "metadata": {
    "colab": {},
    "colab_type": "code",
    "id": "Gk3FQ9t7eHHM"
   },
   "outputs": [],
   "source": [
    "#LABELS = [\"Bump \", \"Crack \", \"DirtRoad \", \"Idle \", \"PavedRoad \", \"Pothole \", \"PotholeMiss \", \"RoughRoad \", \"SpeedBump \"] \n",
    "# Output classes to learn how to classify\n",
    "LABELS = [\n",
    "    \"WALKING\",\"WALKING_UPSTAIRS\",\"WALKING_DOWNSTAIRS\",\"SITTING\",\"STANDING\",\"LAYING\"\n",
    "]"
   ]
  },
  {
   "cell_type": "markdown",
   "metadata": {
    "colab_type": "text",
    "id": "W9cMaBsyeHHQ"
   },
   "source": []
  },
  {
   "cell_type": "code",
   "execution_count": 3,
   "metadata": {
    "colab": {
     "base_uri": "https://localhost:8080/",
     "height": 51
    },
    "colab_type": "code",
    "id": "45Xy8pqIeHHQ",
    "outputId": "115b1191-9231-49fb-d897-6558d8bf1f1e"
   },
   "outputs": [],
   "source": [
    "DATA_PATH = \"data/\"\n",
    "DATASET_PATH = DATA_PATH + \"UCI HAR Dataset/\"\n",
    "\n"
   ]
  },
  {
   "cell_type": "markdown",
   "metadata": {
    "colab_type": "text",
    "id": "dWZwPpbIeHHU"
   },
   "source": []
  },
  {
   "cell_type": "code",
   "execution_count": 4,
   "metadata": {
    "colab": {
     "base_uri": "https://localhost:8080/",
     "height": 34
    },
    "colab_type": "code",
    "id": "27gQrFhzeHHW",
    "outputId": "4406a65d-aaf8-46e0-b066-e2b021679b98",
    "scrolled": true
   },
   "outputs": [
    {
     "name": "stderr",
     "output_type": "stream",
     "text": [
      "Using TensorFlow backend.\n"
     ]
    }
   ],
   "source": []
  },
  {
   "cell_type": "code",
   "execution_count": 5,
   "metadata": {},
   "outputs": [
    {
     "data": {
      "text/plain": [
       "array([[4],\n",
       "       [4],\n",
       "       [4],\n",
       "       ...,\n",
       "       [1],\n",
       "       [1],\n",
       "       [1]])"
      ]
     },
     "execution_count": 5,
     "metadata": {},
     "output_type": "execute_result"
    }
   ],
   "source": [
    "\n"
   ]
  },
  {
   "cell_type": "code",
   "execution_count": null,
   "metadata": {
    "scrolled": true
   },
   "outputs": [],
   "source": []
  },
  {
   "cell_type": "markdown",
   "metadata": {
    "colab_type": "text",
    "id": "cKypJOg_eHHZ"
   },
   "source": [
    "\n",
    "\n"
   ]
  },
  {
   "cell_type": "code",
   "execution_count": 6,
   "metadata": {
    "colab": {
     "base_uri": "https://localhost:8080/",
     "height": 85
    },
    "colab_type": "code",
    "id": "XcQdtt1_eHHa",
    "outputId": "945a2fb1-e17f-40a6-c426-2b76f497279e"
   },
   "outputs": [
    {
     "name": "stdout",
     "output_type": "stream",
     "text": [
      "Some useful info to get an insight on dataset's shape and normalisation:\n",
      "(X shape, y shape, every X's mean, every X's standard deviation)\n",
      "(2947, 561, 1) (2947, 6) -0.509257 0.525582\n",
      "The dataset is therefore properly normalised, as expected, but not yet one-hot encoded.\n"
     ]
    }
   ],
   "source": [
    "# Input Data \n",
    "\n",
    "training_data_count = len(X_train)  #  training series (with 50% overlap between each serie)\n",
    "test_data_count = len(X_test)  #  testing series\n",
    "n_steps = len(X_train[0])  #  timesteps per series\n",
    "n_input = len(X_train[0][0])  #  input parameters per timestep\n",
    "\n",
    "\n",
    "# LSTM Neural Network's internal structure\n",
    "n_hidden = 7 # Hidden layer num of features\n",
    "n_classes = 5 # Total classes \n",
    "# Training \n",
    "learning_rate = 0.001   # 0.003\n",
    "lambda_loss_amount = 0.01\n",
    "training_iters = training_data_count * 300  # Loop 300 times on the dataset\n",
    "batch_size = 264    # 20 for batch size   #smaller batch size more change of updating the network  i one epoach\n",
    "display_iter = 100  # To show test set accuracy during training\n",
    "\n",
    "\n"
   ]
  },
  {
   "cell_type": "markdown",
   "metadata": {
    "colab_type": "text",
    "id": "tB6wllCtYXIK"
   },
   "source": []
  },
  {
   "cell_type": "code",
   "execution_count": 7,
   "metadata": {
    "colab": {},
    "colab_type": "code",
    "id": "ewJgAbHvoOjc"
   },
   "outputs": [],
   "source": [
    "\n"
   ]
  },
  {
   "cell_type": "markdown",
   "metadata": {
    "colab_type": "text",
    "id": "SP1x0qS1FvT-"
   },
   "source": []
  },
  {
   "cell_type": "code",
   "execution_count": null,
   "metadata": {
    "colab": {},
    "colab_type": "code",
    "id": "iva9a71moQG6"
   },
   "outputs": [],
   "source": []
  },
  {
   "cell_type": "markdown",
   "metadata": {
    "colab_type": "text",
    "id": "x30PRktXE1-g"
   },
   "source": []
  },
  {
   "cell_type": "code",
   "execution_count": null,
   "metadata": {
    "colab": {},
    "colab_type": "code",
    "id": "8yyn4HZiH_Qt"
   },
   "outputs": [],
   "source": [
    "\n",
    " \n"
   ]
  },
  {
   "cell_type": "code",
   "execution_count": null,
   "metadata": {},
   "outputs": [],
   "source": [
    "\n"
   ]
  },
  {
   "cell_type": "code",
   "execution_count": null,
   "metadata": {
    "scrolled": true
   },
   "outputs": [],
   "source": []
  },
  {
   "cell_type": "code",
   "execution_count": null,
   "metadata": {
    "scrolled": true
   },
   "outputs": [],
   "source": [
    "\n"
   ]
  },
  {
   "cell_type": "code",
   "execution_count": null,
   "metadata": {},
   "outputs": [],
   "source": [
    "\n"
   ]
  },
  {
   "cell_type": "code",
   "execution_count": null,
   "metadata": {},
   "outputs": [],
   "source": []
  },
  {
   "cell_type": "code",
   "execution_count": null,
   "metadata": {},
   "outputs": [],
   "source": []
  },
  {
   "cell_type": "code",
   "execution_count": null,
   "metadata": {},
   "outputs": [],
   "source": []
  },
  {
   "cell_type": "code",
   "execution_count": null,
   "metadata": {},
   "outputs": [],
   "source": []
  },
  {
   "cell_type": "code",
   "execution_count": null,
   "metadata": {},
   "outputs": [],
   "source": [
    "\n",
    "\n",
    "\n"
   ]
  },
  {
   "cell_type": "code",
   "execution_count": null,
   "metadata": {},
   "outputs": [],
   "source": []
  },
  {
   "cell_type": "code",
   "execution_count": 246,
   "metadata": {},
   "outputs": [],
   "source": [
    "\n",
    "\n",
    "\n",
    "from numpy import mean\n",
    "from numpy import std\n",
    "from numpy import dstack\n",
    "from pandas import read_csv\n",
    "from keras.models import Sequential\n",
    "from keras.layers import Dense\n",
    "from keras.layers import Flatten\n",
    "from keras.layers import Dropout\n",
    "from keras.layers import LSTM\n",
    "from keras.utils import to_categorical\n",
    "from matplotlib import pyplot\n",
    "import matplotlib.pyplot as plt\n",
    "import pandas as pd\n",
    "\n",
    "directory_for_the_data=r\"C:/Users/Varun_Garg/Desktop/HW1_HA/HA_hw_4/data/\"\n",
    "\n",
    "def load_file(filepath):\n",
    "    dataframe = pd.read_csv(filepath, header=None, delim_whitespace=True)\n",
    "    return dataframe.values\n",
    "\n",
    "def load_group(filenames, prefix=''):\n",
    "    loaded = list()\n",
    "    for name in filenames:\n",
    "        data = load_file(prefix + name)\n",
    "        loaded.append(data)\n",
    "    # stack group so that features are the 3rd dimension\n",
    "    loaded = dstack(loaded)\n",
    "    return loaded\n",
    "\n",
    "def load_dataset_group(group, prefix=''):\n",
    "    filepath = prefix + group + '/Inertial Signals/'\n",
    "    # load all 9 files as a single array\n",
    "    filenames = list()\n",
    "    # total acceleration\n",
    "    filenames += ['total_acc_x_'+group+'.txt', 'total_acc_y_'+group+'.txt', 'total_acc_z_'+group+'.txt']\n",
    "    # body acceleration\n",
    "    filenames += ['body_acc_x_'+group+'.txt', 'body_acc_y_'+group+'.txt', 'body_acc_z_'+group+'.txt']\n",
    "    # body gyroscope\n",
    "    filenames += ['body_gyro_x_'+group+'.txt', 'body_gyro_y_'+group+'.txt', 'body_gyro_z_'+group+'.txt']\n",
    "    # load input data\n",
    "    X = load_group(filenames, filepath)\n",
    "    # load class output\n",
    "    y = load_file(prefix + group + '/y_'+group+'.txt')\n",
    "    return X, y\n",
    "\n",
    "def load_dataset_acc_group(group, prefix=''):\n",
    "    filepath = prefix + group + '/Inertial Signals/'\n",
    "    # load all 9 files as a single array\n",
    "    filenames = list()\n",
    "    # total acceleration\n",
    "    filenames += ['total_acc_x_'+group+'.txt', 'total_acc_y_'+group+'.txt', 'total_acc_z_'+group+'.txt']\n",
    "    # body acceleration\n",
    "    filenames += ['body_acc_x_'+group+'.txt', 'body_acc_y_'+group+'.txt', 'body_acc_z_'+group+'.txt']\n",
    "    # body gyroscope\n",
    "    #filenames += ['body_gyro_x_'+group+'.txt', 'body_gyro_y_'+group+'.txt', 'body_gyro_z_'+group+'.txt']\n",
    "    # load input data\n",
    "    X = load_group(filenames, filepath)\n",
    "    # load class output\n",
    "    y = load_file(prefix + group + '/y_'+group+'.txt')\n",
    "    return X, y\n",
    "\n",
    "\n",
    "def load_dataset_gyro_group(group, prefix=''):\n",
    "    filepath = prefix + group + '/Inertial Signals/'\n",
    "    # load all 9 files as a single array\n",
    "    filenames = list()\n",
    "    # total acceleration\n",
    "    #filenames += ['total_acc_x_'+group+'.txt', 'total_acc_y_'+group+'.txt', 'total_acc_z_'+group+'.txt']\n",
    "    # body acceleration\n",
    "    #filenames += ['body_acc_x_'+group+'.txt', 'body_acc_y_'+group+'.txt', 'body_acc_z_'+group+'.txt']\n",
    "    # body gyroscope\n",
    "    filenames += ['body_gyro_x_'+group+'.txt', 'body_gyro_y_'+group+'.txt', 'body_gyro_z_'+group+'.txt']\n",
    "    # load input data\n",
    "    X = load_group(filenames, filepath)\n",
    "    # load class output\n",
    "    y = load_file(prefix + group + '/y_'+group+'.txt')\n",
    "    return X, y\n",
    "\n",
    "\n",
    "def load_dataset(prefix=''):\n",
    "    # load all train\n",
    "    trainX, trainy = load_dataset_group('train', prefix + 'HAR Dataset/')\n",
    "    print(trainX.shape, trainy.shape)\n",
    "    # load all test\n",
    "    testX, testy = load_dataset_group('test', prefix + 'HAR Dataset/')\n",
    "    print(testX.shape, testy.shape)\n",
    "    # zero-offset class values\n",
    "    trainy = trainy - 1\n",
    "    testy = testy - 1\n",
    "    # one hot encode y\n",
    "    trainy = to_categorical(trainy)\n",
    "    testy = to_categorical(testy)\n",
    "    print(trainX.shape, trainy.shape, testX.shape, testy.shape)\n",
    "    return trainX, trainy, testX, testy\n",
    "\n",
    "\n",
    "def load_acc_dataset(prefix=''):\n",
    "    # load all train\n",
    "    trainX, trainy = load_dataset_acc_group('train', prefix + 'HAR Dataset/')\n",
    "    print(trainX.shape, trainy.shape)\n",
    "    # load all test\n",
    "    testX, testy = load_dataset_acc_group('test', prefix + 'HAR Dataset/')\n",
    "    print(testX.shape, testy.shape)\n",
    "    # zero-offset class values\n",
    "    trainy = trainy - 1\n",
    "    testy = testy - 1\n",
    "    # one hot encode y\n",
    "    trainy = to_categorical(trainy)\n",
    "    testy = to_categorical(testy)\n",
    "    print(trainX.shape, trainy.shape, testX.shape, testy.shape)\n",
    "    return trainX, trainy, testX, testy\n",
    "\n",
    "\n",
    "def load_gyro_dataset(prefix=''):\n",
    "    # load all train\n",
    "    trainX, trainy = load_dataset_gyro_group('train', prefix + 'HAR Dataset/')\n",
    "    print(trainX.shape, trainy.shape)\n",
    "    # load all test\n",
    "    testX, testy = load_dataset_gyro_group('test', prefix + 'HAR Dataset/')\n",
    "    print(testX.shape, testy.shape)\n",
    "    # zero-offset class values\n",
    "    trainy = trainy - 1\n",
    "    testy = testy - 1\n",
    "    # one hot encode y\n",
    "    trainy = to_categorical(trainy)\n",
    "    testy = to_categorical(testy)\n",
    "    print(trainX.shape, trainy.shape, testX.shape, testy.shape)\n",
    "    return trainX, trainy, testX, testy\n",
    "\n",
    "\n",
    "\n",
    "\n",
    "\n",
    "\n",
    "\n",
    "\n",
    "\n",
    "def plot_train_and_val(mymodel):\n",
    "  plt.plot(mymodel.history['acc'])\n",
    "  #plt.plot(mymodel.history['val_acc'])\n",
    "  plt.title('model accuracy')\n",
    "  plt.ylabel('accuracy')\n",
    "  plt.xlabel('epoch')\n",
    "  plt.legend(['train', 'Validation'], loc='upper left')\n",
    "  plt.show()\n",
    "  plt.plot(mymodel.history['loss'])\n",
    "  plt.plot(mymodel.history['val_loss'])\n",
    "  plt.title('model loss')\n",
    "  plt.ylabel('loss')\n",
    "  plt.xlabel('epoch')\n",
    "  plt.legend(['train', 'Validation'], loc='upper left')\n",
    "  plt.show()\n",
    "\n",
    "    \n",
    "    \n",
    "  \n"
   ]
  },
  {
   "cell_type": "code",
   "execution_count": 276,
   "metadata": {},
   "outputs": [
    {
     "name": "stdout",
     "output_type": "stream",
     "text": [
      "(7352, 128, 9) (7352, 1)\n",
      "(2947, 128, 9) (2947, 1)\n",
      "(7352, 128, 9) (7352, 4) (2947, 128, 9) (2947, 4)\n"
     ]
    }
   ],
   "source": [
    "# Task 1 output 1\n",
    "#oOutput 1: 4 class problems with activities: Walking, Sitting, Standing and Laying. Merge all kind of walking activities into a composite activity “walking”. The problem is categorical\n",
    "\n",
    "\n",
    "def load_dataset_4class(prefix=''):\n",
    "    # load all train\n",
    "    trainX, trainy = load_dataset_group('train', prefix + 'HAR Dataset/')\n",
    "    print(trainX.shape, trainy.shape)\n",
    "    # load all test\n",
    "    testX, testy = load_dataset_group('test', prefix + 'HAR Dataset/')\n",
    "    print(testX.shape, testy.shape)\n",
    "    # zero-offset class values\n",
    "    trainy = trainy - 1\n",
    "    testy = testy - 1\n",
    "    # one hot encode y\n",
    "\n",
    "    trainy_4_output = trainy\n",
    "    for i in range (len(trainy_4_output)):\n",
    "        if trainy_4_output[i]==4:\n",
    "            trainy_4_output[i]=3\n",
    "        elif trainy_4_output[i]==5:\n",
    "            trainy_4_output[i]=3\n",
    "    trainy=trainy_4_output\n",
    "    \n",
    "    testy_4_output = testy\n",
    "    for i in range (len(testy_4_output)):\n",
    "        if testy_4_output[i]==4:\n",
    "            testy_4_output[i]=3\n",
    "        elif testy_4_output[i]==5:\n",
    "            testy_4_output[i]=3\n",
    "    testy=testy_4_output\n",
    "    \n",
    "    trainy = to_categorical(trainy)\n",
    "    testy = to_categorical(testy)\n",
    "    \n",
    "    print(trainX.shape, trainy.shape, testX.shape, testy.shape)\n",
    "    return trainX, trainy, testX, testy\n",
    "\n",
    "\n",
    "trainX, trainy, testX, testy = load_dataset_4class(prefix=directory_for_the_data)\n",
    "\n",
    "\n",
    "\n"
   ]
  },
  {
   "cell_type": "code",
   "execution_count": 277,
   "metadata": {},
   "outputs": [
    {
     "data": {
      "text/plain": [
       "(2947, 4)"
      ]
     },
     "execution_count": 277,
     "metadata": {},
     "output_type": "execute_result"
    }
   ],
   "source": [
    "testy.shape"
   ]
  },
  {
   "cell_type": "code",
   "execution_count": 278,
   "metadata": {},
   "outputs": [
    {
     "name": "stdout",
     "output_type": "stream",
     "text": [
      "(7352, 128, 6) (7352, 1)\n",
      "(2947, 128, 6) (2947, 1)\n",
      "(7352, 128, 6) (7352, 4) (2947, 128, 6) (2947, 4)\n"
     ]
    }
   ],
   "source": [
    "# Task 1 output 1\n",
    "def load_acc_dataset_4class(prefix=''):\n",
    "    # load all train\n",
    "    trainX, trainy = load_dataset_acc_group('train', prefix + 'HAR Dataset/')\n",
    "    print(trainX.shape, trainy.shape)\n",
    "    # load all test\n",
    "    testX, testy = load_dataset_acc_group('test', prefix + 'HAR Dataset/')\n",
    "    print(testX.shape, testy.shape)\n",
    "    # zero-offset class values\n",
    "    trainy = trainy - 1\n",
    "    testy = testy - 1\n",
    "    # one hot encode y\n",
    "\n",
    "    trainy_4_output = trainy\n",
    "    for i in range (len(trainy_4_output)):\n",
    "        if trainy_4_output[i]==4:\n",
    "            trainy_4_output[i]=3\n",
    "        elif trainy_4_output[i]==5:\n",
    "            trainy_4_output[i]=3\n",
    "    trainy=trainy_4_output\n",
    "    \n",
    "    testy_4_output = testy\n",
    "    for i in range (len(testy_4_output)):\n",
    "        if testy_4_output[i]==4:\n",
    "            testy_4_output[i]=3\n",
    "        elif testy_4_output[i]==5:\n",
    "            testy_4_output[i]=3\n",
    "    testy=testy_4_output\n",
    "    \n",
    "    trainy = to_categorical(trainy)\n",
    "    testy = to_categorical(testy)\n",
    "    \n",
    "    print(trainX.shape, trainy.shape, testX.shape, testy.shape)\n",
    "    return trainX, trainy, testX, testy\n",
    "\n",
    "\n",
    "trainX, trainy, testX, testy = load_acc_dataset_4class(prefix=directory_for_the_data)\n",
    "\n",
    "\n",
    "\n",
    "\n",
    "\n"
   ]
  },
  {
   "cell_type": "code",
   "execution_count": 273,
   "metadata": {},
   "outputs": [
    {
     "data": {
      "text/plain": [
       "(2947, 4)"
      ]
     },
     "execution_count": 273,
     "metadata": {},
     "output_type": "execute_result"
    }
   ],
   "source": [
    "testy.shape"
   ]
  },
  {
   "cell_type": "code",
   "execution_count": 274,
   "metadata": {},
   "outputs": [
    {
     "name": "stdout",
     "output_type": "stream",
     "text": [
      "(7352, 128, 3) (7352, 1)\n",
      "(2947, 128, 3) (2947, 1)\n",
      "(7352, 128, 3) (7352, 4) (2947, 128, 3) (2947, 4)\n"
     ]
    }
   ],
   "source": [
    "# Task 1 output 1\n",
    "def load_gyro_dataset_4class(prefix=''):\n",
    "    # load all train\n",
    "    trainX, trainy = load_dataset_gyro_group('train', prefix + 'HAR Dataset/')\n",
    "    print(trainX.shape, trainy.shape)\n",
    "    # load all test\n",
    "    testX, testy = load_dataset_gyro_group('test', prefix + 'HAR Dataset/')\n",
    "    print(testX.shape, testy.shape)\n",
    "    # zero-offset class values\n",
    "    trainy = trainy - 1\n",
    "    testy = testy - 1\n",
    "    # one hot encode y\n",
    "\n",
    "    trainy_4_output = trainy\n",
    "    for i in range (len(trainy_4_output)):\n",
    "        if trainy_4_output[i]==4:\n",
    "            trainy_4_output[i]=3\n",
    "        elif trainy_4_output[i]==5:\n",
    "            trainy_4_output[i]=3\n",
    "    trainy=trainy_4_output\n",
    "    \n",
    "    testy_4_output = testy\n",
    "    for i in range (len(testy_4_output)):\n",
    "        if testy_4_output[i]==4:\n",
    "            testy_4_output[i]=3\n",
    "        elif testy_4_output[i]==5:\n",
    "            testy_4_output[i]=3\n",
    "    testy=testy_4_output\n",
    "    \n",
    "    trainy = to_categorical(trainy)\n",
    "    testy = to_categorical(testy)\n",
    "    \n",
    "    print(trainX.shape, trainy.shape, testX.shape, testy.shape)\n",
    "    return trainX, trainy, testX, testy\n",
    "\n",
    "\n",
    "trainX, trainy, testX, testy = load_gyro_dataset_4class(prefix=directory_for_the_data)\n",
    "\n",
    "\n",
    "\n",
    "\n",
    "\n"
   ]
  },
  {
   "cell_type": "code",
   "execution_count": 275,
   "metadata": {},
   "outputs": [
    {
     "data": {
      "text/plain": [
       "(2947, 4)"
      ]
     },
     "execution_count": 275,
     "metadata": {},
     "output_type": "execute_result"
    }
   ],
   "source": [
    "testy.shape"
   ]
  },
  {
   "cell_type": "code",
   "execution_count": null,
   "metadata": {},
   "outputs": [],
   "source": []
  },
  {
   "cell_type": "code",
   "execution_count": null,
   "metadata": {},
   "outputs": [],
   "source": [
    "#Task 1 output 2 \n",
    "# oOutput 2: Replace categorical classes with the following values to make it a regression problem of mobility score"
   ]
  },
  {
   "cell_type": "code",
   "execution_count": 243,
   "metadata": {},
   "outputs": [],
   "source": [
    "def load_dataset_mobility_score(prefix=''):\n",
    "    trainX, trainy = load_dataset_group('train', prefix + 'HAR Dataset/')\n",
    "    testX, testy = load_dataset_group('test', prefix + 'HAR Dataset/')\n",
    "    trainy = trainy - 1\n",
    "    testy = testy - 1\n",
    "    return trainX, trainy, testX, testy\n",
    "\n"
   ]
  },
  {
   "cell_type": "code",
   "execution_count": 244,
   "metadata": {},
   "outputs": [
    {
     "name": "stdout",
     "output_type": "stream",
     "text": [
      "(7352, 128, 9) (7352, 1)\n",
      "(2947, 128, 9) (2947, 1)\n",
      "(7352, 128, 9) (7352, 1) (2947, 128, 9) (2947, 1)\n"
     ]
    }
   ],
   "source": [
    "trainX, trainy_non_categorical, testX, testy_non_categorical = load_dataset_mobility_score(prefix=directory_for_the_data)\n"
   ]
  },
  {
   "cell_type": "code",
   "execution_count": 181,
   "metadata": {},
   "outputs": [
    {
     "data": {
      "text/plain": [
       "7352"
      ]
     },
     "execution_count": 181,
     "metadata": {},
     "output_type": "execute_result"
    }
   ],
   "source": [
    "len(trainy_non_categorical)"
   ]
  },
  {
   "cell_type": "code",
   "execution_count": 232,
   "metadata": {},
   "outputs": [],
   "source": [
    "trainy_model2 =trainy_non_categorical\n",
    "#trainy[1:100]\n",
    "\n",
    "\n",
    "for i in range (len(trainy_model2)):\n",
    "    if trainy_model2[i]==2:\n",
    "        trainy_model2[i]=1\n",
    "    elif trainy_model2[i]==3:\n",
    "        trainy_model2[i]=2\n",
    "    elif trainy_model2[i]==4:\n",
    "        trainy_model2[i]=3\n"
   ]
  },
  {
   "cell_type": "code",
   "execution_count": 234,
   "metadata": {},
   "outputs": [],
   "source": [
    "testy_model2 =testy_non_categorical\n",
    "#testy[1:100]\n",
    "\n",
    "\n",
    "for i in range (len(testy_model2)):\n",
    "    if testy_model2[i]==2:\n",
    "        testy_model2[i]=1\n",
    "    elif testy_model2[i]==3:\n",
    "        testy_model2[i]=2\n",
    "    elif testy_model2[i]==4:\n",
    "        testy_model2[i]=3"
   ]
  },
  {
   "cell_type": "code",
   "execution_count": 183,
   "metadata": {},
   "outputs": [
    {
     "data": {
      "text/plain": [
       "array([[3],\n",
       "       [3],\n",
       "       [3],\n",
       "       [3],\n",
       "       [3],\n",
       "       [3],\n",
       "       [3],\n",
       "       [3],\n",
       "       [3],\n",
       "       [3],\n",
       "       [3],\n",
       "       [3],\n",
       "       [3],\n",
       "       [3],\n",
       "       [3],\n",
       "       [3],\n",
       "       [3],\n",
       "       [3],\n",
       "       [3],\n",
       "       [3],\n",
       "       [3],\n",
       "       [3],\n",
       "       [3],\n",
       "       [3],\n",
       "       [3],\n",
       "       [3],\n",
       "       [2],\n",
       "       [2],\n",
       "       [2],\n",
       "       [2],\n",
       "       [2],\n",
       "       [2],\n",
       "       [2],\n",
       "       [2],\n",
       "       [2],\n",
       "       [2],\n",
       "       [2],\n",
       "       [2],\n",
       "       [2],\n",
       "       [2],\n",
       "       [2],\n",
       "       [2],\n",
       "       [2],\n",
       "       [2],\n",
       "       [2],\n",
       "       [2],\n",
       "       [2],\n",
       "       [2],\n",
       "       [2],\n",
       "       [2],\n",
       "       [5],\n",
       "       [5],\n",
       "       [5],\n",
       "       [5],\n",
       "       [5],\n",
       "       [5],\n",
       "       [5],\n",
       "       [5],\n",
       "       [5],\n",
       "       [5],\n",
       "       [5],\n",
       "       [5],\n",
       "       [5],\n",
       "       [5],\n",
       "       [5],\n",
       "       [5],\n",
       "       [5],\n",
       "       [5],\n",
       "       [5],\n",
       "       [5],\n",
       "       [5],\n",
       "       [5],\n",
       "       [5],\n",
       "       [5],\n",
       "       [5],\n",
       "       [5],\n",
       "       [5],\n",
       "       [0],\n",
       "       [0],\n",
       "       [0],\n",
       "       [0],\n",
       "       [0],\n",
       "       [0],\n",
       "       [0],\n",
       "       [0],\n",
       "       [0],\n",
       "       [0],\n",
       "       [0],\n",
       "       [0],\n",
       "       [0],\n",
       "       [0],\n",
       "       [0],\n",
       "       [0],\n",
       "       [0],\n",
       "       [0],\n",
       "       [0],\n",
       "       [0],\n",
       "       [0],\n",
       "       [0],\n",
       "       [0],\n",
       "       [0],\n",
       "       [0],\n",
       "       [0],\n",
       "       [0],\n",
       "       [0],\n",
       "       [0],\n",
       "       [0],\n",
       "       [0],\n",
       "       [0],\n",
       "       [0],\n",
       "       [0],\n",
       "       [0],\n",
       "       [0],\n",
       "       [0],\n",
       "       [0],\n",
       "       [0],\n",
       "       [0],\n",
       "       [0],\n",
       "       [0],\n",
       "       [0],\n",
       "       [0],\n",
       "       [0],\n",
       "       [0],\n",
       "       [0],\n",
       "       [1],\n",
       "       [1],\n",
       "       [1],\n",
       "       [1],\n",
       "       [1],\n",
       "       [1],\n",
       "       [1],\n",
       "       [1],\n",
       "       [1],\n",
       "       [1],\n",
       "       [1],\n",
       "       [1],\n",
       "       [1],\n",
       "       [1],\n",
       "       [1],\n",
       "       [1],\n",
       "       [1],\n",
       "       [1],\n",
       "       [1],\n",
       "       [1],\n",
       "       [1],\n",
       "       [1],\n",
       "       [1],\n",
       "       [1],\n",
       "       [1],\n",
       "       [1],\n",
       "       [1],\n",
       "       [1],\n",
       "       [1],\n",
       "       [1],\n",
       "       [1],\n",
       "       [1],\n",
       "       [1],\n",
       "       [1],\n",
       "       [1],\n",
       "       [1],\n",
       "       [1],\n",
       "       [1],\n",
       "       [1],\n",
       "       [1],\n",
       "       [1],\n",
       "       [1],\n",
       "       [1],\n",
       "       [1],\n",
       "       [1],\n",
       "       [1],\n",
       "       [1],\n",
       "       [1],\n",
       "       [1],\n",
       "       [1],\n",
       "       [1],\n",
       "       [3],\n",
       "       [3],\n",
       "       [3],\n",
       "       [3],\n",
       "       [3],\n",
       "       [3],\n",
       "       [3],\n",
       "       [3],\n",
       "       [3],\n",
       "       [3],\n",
       "       [3],\n",
       "       [3],\n",
       "       [3],\n",
       "       [3],\n",
       "       [3],\n",
       "       [3],\n",
       "       [3],\n",
       "       [3],\n",
       "       [3],\n",
       "       [3],\n",
       "       [3],\n",
       "       [3],\n",
       "       [3],\n",
       "       [3]], dtype=int64)"
      ]
     },
     "execution_count": 183,
     "metadata": {},
     "output_type": "execute_result"
    }
   ],
   "source": [
    "trainy_model2[1:200]"
   ]
  },
  {
   "cell_type": "code",
   "execution_count": null,
   "metadata": {},
   "outputs": [],
   "source": []
  },
  {
   "cell_type": "code",
   "execution_count": null,
   "metadata": {},
   "outputs": [],
   "source": []
  },
  {
   "cell_type": "code",
   "execution_count": null,
   "metadata": {},
   "outputs": [],
   "source": []
  },
  {
   "cell_type": "code",
   "execution_count": 19,
   "metadata": {},
   "outputs": [],
   "source": [
    "def plot_train_and_val(history):\n",
    "  plt.plot(history.history['acc'])\n",
    "  plt.plot(history.history['val_acc'])\n",
    "  plt.title('model accuracy')\n",
    "  plt.ylabel('accuracy')\n",
    "  plt.xlabel('epoch')\n",
    "  plt.legend(['train', 'Validation'], loc='upper left')\n",
    "  plt.show()\n",
    "  plt.plot(history.history['loss'])\n",
    "  plt.plot(history.history['val_loss'])\n",
    "  plt.title('model loss')\n",
    "  plt.ylabel('loss')\n",
    "  plt.xlabel('epoch')\n",
    "  plt.legend(['train', 'Validation'], loc='upper left')\n",
    "  plt.show()\n",
    "\n",
    "\n"
   ]
  },
  {
   "cell_type": "code",
   "execution_count": 19,
   "metadata": {},
   "outputs": [],
   "source": []
  },
  {
   "cell_type": "code",
   "execution_count": 279,
   "metadata": {},
   "outputs": [
    {
     "name": "stdout",
     "output_type": "stream",
     "text": [
      "(7352, 128, 9) (7352, 1)\n",
      "(2947, 128, 9) (2947, 1)\n",
      "(7352, 128, 9) (7352, 4) (2947, 128, 9) (2947, 4)\n"
     ]
    },
    {
     "data": {
      "text/plain": [
       "(7352, 128, 9)"
      ]
     },
     "execution_count": 279,
     "metadata": {},
     "output_type": "execute_result"
    }
   ],
   "source": [
    "trainX, trainy, testX, testy = load_dataset_4class(prefix=directory_for_the_data)\n",
    "trainX.shape"
   ]
  },
  {
   "cell_type": "code",
   "execution_count": 191,
   "metadata": {},
   "outputs": [
    {
     "data": {
      "text/plain": [
       "(2947, 6)"
      ]
     },
     "execution_count": 191,
     "metadata": {},
     "output_type": "execute_result"
    }
   ],
   "source": [
    "testy.shape"
   ]
  },
  {
   "cell_type": "code",
   "execution_count": 192,
   "metadata": {},
   "outputs": [
    {
     "data": {
      "text/plain": [
       "array([[0., 0., 0., 0., 1., 0.],\n",
       "       [0., 0., 0., 0., 1., 0.],\n",
       "       [0., 0., 0., 0., 1., 0.],\n",
       "       [0., 0., 0., 0., 1., 0.],\n",
       "       [0., 0., 0., 0., 1., 0.],\n",
       "       [0., 0., 0., 0., 1., 0.],\n",
       "       [0., 0., 0., 0., 1., 0.],\n",
       "       [0., 0., 0., 0., 1., 0.],\n",
       "       [0., 0., 0., 0., 1., 0.]], dtype=float32)"
      ]
     },
     "execution_count": 192,
     "metadata": {},
     "output_type": "execute_result"
    }
   ],
   "source": [
    "testy[1:10]"
   ]
  },
  {
   "cell_type": "code",
   "execution_count": null,
   "metadata": {},
   "outputs": [],
   "source": []
  },
  {
   "cell_type": "code",
   "execution_count": null,
   "metadata": {},
   "outputs": [],
   "source": []
  },
  {
   "cell_type": "code",
   "execution_count": 280,
   "metadata": {
    "scrolled": false
   },
   "outputs": [
    {
     "name": "stdout",
     "output_type": "stream",
     "text": [
      "__________________________________________________________________________________________________\n",
      "Layer (type)                    Output Shape         Param #     Connected to                     \n",
      "==================================================================================================\n",
      "input_28 (InputLayer)           (None, 128, 9)       0                                            \n",
      "__________________________________________________________________________________________________\n",
      "input_29 (InputLayer)           (None, 128, 9)       0                                            \n",
      "__________________________________________________________________________________________________\n",
      "lstm_165 (LSTM)                 (None, 100)          44000       input_28[0][0]                   \n",
      "__________________________________________________________________________________________________\n",
      "lstm_166 (LSTM)                 (None, 100)          44000       input_29[0][0]                   \n",
      "__________________________________________________________________________________________________\n",
      "concatenate_12 (Concatenate)    (None, 200)          0           lstm_165[0][0]                   \n",
      "                                                                 lstm_166[0][0]                   \n",
      "__________________________________________________________________________________________________\n",
      "repeat_vector_39 (RepeatVector) (None, 3, 200)       0           concatenate_12[0][0]             \n",
      "__________________________________________________________________________________________________\n",
      "lstm_167 (LSTM)                 (None, 3, 100)       120400      repeat_vector_39[0][0]           \n",
      "__________________________________________________________________________________________________\n",
      "lstm_168 (LSTM)                 (None, 3, 100)       80400       lstm_167[0][0]                   \n",
      "__________________________________________________________________________________________________\n",
      "lstm_169 (LSTM)                 (None, 100)          80400       lstm_168[0][0]                   \n",
      "__________________________________________________________________________________________________\n",
      "lstm_170 (LSTM)                 (None, 100)          80400       lstm_168[0][0]                   \n",
      "__________________________________________________________________________________________________\n",
      "out1 (Dense)                    (None, 4)            404         lstm_169[0][0]                   \n",
      "__________________________________________________________________________________________________\n",
      "out2 (Dense)                    (None, 1)            101         lstm_170[0][0]                   \n",
      "==================================================================================================\n",
      "Total params: 450,105\n",
      "Trainable params: 450,105\n",
      "Non-trainable params: 0\n",
      "__________________________________________________________________________________________________\n",
      "None\n"
     ]
    }
   ],
   "source": [
    "#MOST important TASK 2 \n",
    "# MULTI input OUTPUT MODEL\n",
    "\n",
    "\n",
    "import keras\n",
    "from keras.layers import Input, Dense , Concatenate\n",
    "from keras.models import Model\n",
    "# This returns a tensor\n",
    "inputs  = Input(shape=(128, 9))\n",
    "inputs2 = Input(shape=(128, 9))\n",
    "# a layer instance is callable on a tensor, and returns a tensor\n",
    "#lstm_1 = LSTM(100, dropout=0.2, recurrent_dropout=0.2, activation='relu')(inputs)\n",
    "lstm_1 = LSTM(100,  activation='relu')(inputs)\n",
    "lstm_2 = LSTM(100,  activation='relu')(inputs2)\n",
    "Merge2 =  keras.layers.concatenate([lstm_1, lstm_2])\n",
    "Rvec =    keras.layers.RepeatVector(3)(Merge2)\n",
    "lstm_m_1 = LSTM(100, activation='relu', return_sequences=True)(Rvec)\n",
    "#Rvec2  = keras.layers.RepeatVector(3)(lstm_m_1)\n",
    "lstm_m_2 = LSTM(100,  activation='relu', return_sequences=True)(lstm_m_1)\n",
    "#Rvec3  = keras.layers.RepeatVector(1)(lstm_m_2)\n",
    "lstm_o_1= LSTM(100, activation='relu')(lstm_m_2)\n",
    "lstm_o_2= LSTM(100, activation='relu')(lstm_m_2)\n",
    "\n",
    "output1= Dense(4, activation=\"softmax\", name = 'out1')(lstm_o_1)\n",
    "output2= Dense(1, activation=\"softmax\", name = 'out2')(lstm_o_2)\n",
    "\n",
    "\n",
    "#x1 = Dense(64, activation='relu')(Merge2)\n",
    "#x2 = Dense(64, activation='relu')(Merge2)\n",
    "#lstm_o_2 = LSTM(100, dropout=0.2, recurrent_dropout=0.2, activation='relu')(inputs)\n",
    "\n",
    "#output_2 = Dense(64, activation='relu')(Merge2)\n",
    "#predictions = Dense(10, activation='softmax')(output_2)\n",
    "# This creates a model that includes # the Input layer and three Dense layers\n",
    "#model = Model(inputs=[inputs, inputs2] , outputs=[x1, x2])\n",
    "model = Model(inputs=[inputs, inputs2] , outputs=[output1, output2])\n",
    "print(model.summary())\n",
    "#model.compile(optimizer='rmsprop',loss='categorical_crossentropy', metrics=['accuracy']) \n",
    "#model.fit(data, labels) # starts training"
   ]
  },
  {
   "cell_type": "code",
   "execution_count": 281,
   "metadata": {},
   "outputs": [],
   "source": [
    "m=256\n",
    "n_epoch =25\n",
    "model.compile(optimizer ='adam', loss =['categorical_crossentropy','mse'], loss_weights = [1.0,0.5], metrics= ['accuracy'])"
   ]
  },
  {
   "cell_type": "code",
   "execution_count": 282,
   "metadata": {},
   "outputs": [
    {
     "name": "stdout",
     "output_type": "stream",
     "text": [
      "Train on 4925 samples, validate on 2427 samples\n",
      "Epoch 1/16\n",
      "4925/4925 [==============================] - 70s 14ms/step - loss: 2.9947 - out1_loss: 1.3100 - out2_loss: 3.3693 - out1_acc: 0.5377 - out2_acc: 0.4510 - val_loss: 8.0724 - val_out1_loss: 6.3175 - val_out2_loss: 3.5097 - val_out1_acc: 0.5517 - val_out2_acc: 0.4631\n",
      "Epoch 2/16\n",
      "4925/4925 [==============================] - 19s 4ms/step - loss: 4.2372 - out1_loss: 2.5525 - out2_loss: 3.3693 - out1_acc: 0.4745 - out2_acc: 0.4510 - val_loss: 8.4927 - val_out1_loss: 6.7379 - val_out2_loss: 3.5097 - val_out1_acc: 0.2279 - val_out2_acc: 0.4631\n",
      "Epoch 3/16\n",
      "4925/4925 [==============================] - 18s 4ms/step - loss: 6.3194 - out1_loss: 4.6347 - out2_loss: 3.3693 - out1_acc: 0.4173 - out2_acc: 0.4510 - val_loss: 2.5343 - val_out1_loss: 0.7794 - val_out2_loss: 3.5097 - val_out1_acc: 0.6432 - val_out2_acc: 0.4631\n",
      "Epoch 4/16\n",
      "4925/4925 [==============================] - 16s 3ms/step - loss: 2.2840 - out1_loss: 0.5993 - out2_loss: 3.3693 - out1_acc: 0.7019 - out2_acc: 0.4510 - val_loss: 2.3630 - val_out1_loss: 0.6081 - val_out2_loss: 3.5097 - val_out1_acc: 0.7318 - val_out2_acc: 0.4631\n",
      "Epoch 5/16\n",
      "4925/4925 [==============================] - 16s 3ms/step - loss: 2.1926 - out1_loss: 0.5079 - out2_loss: 3.3693 - out1_acc: 0.7338 - out2_acc: 0.4510 - val_loss: 2.3811 - val_out1_loss: 0.6262 - val_out2_loss: 3.5097 - val_out1_acc: 0.7153 - val_out2_acc: 0.4631\n",
      "Epoch 6/16\n",
      "4925/4925 [==============================] - 19s 4ms/step - loss: 2.1655 - out1_loss: 0.4809 - out2_loss: 3.3693 - out1_acc: 0.7468 - out2_acc: 0.4510 - val_loss: 2.5478 - val_out1_loss: 0.7929 - val_out2_loss: 3.5097 - val_out1_acc: 0.7169 - val_out2_acc: 0.4631\n",
      "Epoch 7/16\n",
      "4925/4925 [==============================] - 17s 4ms/step - loss: 2.1587 - out1_loss: 0.4741 - out2_loss: 3.3693 - out1_acc: 0.7517 - out2_acc: 0.4510 - val_loss: 2.4270 - val_out1_loss: 0.6722 - val_out2_loss: 3.5097 - val_out1_acc: 0.7417 - val_out2_acc: 0.4631\n",
      "Epoch 8/16\n",
      "4925/4925 [==============================] - 18s 4ms/step - loss: 2.1434 - out1_loss: 0.4587 - out2_loss: 3.3693 - out1_acc: 0.7620 - out2_acc: 0.4510 - val_loss: 2.4388 - val_out1_loss: 0.6840 - val_out2_loss: 3.5097 - val_out1_acc: 0.7532 - val_out2_acc: 0.4631\n",
      "Epoch 9/16\n",
      "4925/4925 [==============================] - 16s 3ms/step - loss: 2.1164 - out1_loss: 0.4317 - out2_loss: 3.3693 - out1_acc: 0.7817 - out2_acc: 0.4510 - val_loss: 2.4861 - val_out1_loss: 0.7313 - val_out2_loss: 3.5097 - val_out1_acc: 0.7499 - val_out2_acc: 0.4631\n",
      "Epoch 10/16\n",
      "4925/4925 [==============================] - 16s 3ms/step - loss: 2.0888 - out1_loss: 0.4042 - out2_loss: 3.3693 - out1_acc: 0.8154 - out2_acc: 0.4510 - val_loss: 2.5074 - val_out1_loss: 0.7525 - val_out2_loss: 3.5097 - val_out1_acc: 0.7367 - val_out2_acc: 0.4631\n",
      "Epoch 11/16\n",
      "4925/4925 [==============================] - 16s 3ms/step - loss: 2.0411 - out1_loss: 0.3564 - out2_loss: 3.3693 - out1_acc: 0.8475 - out2_acc: 0.4510 - val_loss: 2.2237 - val_out1_loss: 0.4689 - val_out2_loss: 3.5097 - val_out1_acc: 0.8525 - val_out2_acc: 0.4631\n",
      "Epoch 12/16\n",
      "4925/4925 [==============================] - 16s 3ms/step - loss: 1.9947 - out1_loss: 0.3100 - out2_loss: 3.3693 - out1_acc: 0.8879 - out2_acc: 0.4510 - val_loss: 2.1545 - val_out1_loss: 0.3997 - val_out2_loss: 3.5097 - val_out1_acc: 0.8719 - val_out2_acc: 0.4631\n",
      "Epoch 13/16\n",
      "4925/4925 [==============================] - 18s 4ms/step - loss: 1.8887 - out1_loss: 0.2041 - out2_loss: 3.3693 - out1_acc: 0.9206 - out2_acc: 0.4510 - val_loss: 2.3215 - val_out1_loss: 0.5666 - val_out2_loss: 3.5097 - val_out1_acc: 0.8681 - val_out2_acc: 0.4631\n",
      "Epoch 14/16\n",
      "4925/4925 [==============================] - 17s 4ms/step - loss: 1.8434 - out1_loss: 0.1587 - out2_loss: 3.3693 - out1_acc: 0.9431 - out2_acc: 0.4510 - val_loss: 2.9972 - val_out1_loss: 1.2424 - val_out2_loss: 3.5097 - val_out1_acc: 0.7857 - val_out2_acc: 0.4631\n",
      "Epoch 15/16\n",
      "4925/4925 [==============================] - 15s 3ms/step - loss: 1.9342 - out1_loss: 0.2495 - out2_loss: 3.3693 - out1_acc: 0.9084 - out2_acc: 0.4510 - val_loss: 2.8486 - val_out1_loss: 1.0937 - val_out2_loss: 3.5097 - val_out1_acc: 0.7754 - val_out2_acc: 0.4631\n",
      "Epoch 16/16\n",
      "4925/4925 [==============================] - 14s 3ms/step - loss: 1.9699 - out1_loss: 0.2852 - out2_loss: 3.3693 - out1_acc: 0.8914 - out2_acc: 0.4510 - val_loss: 2.3884 - val_out1_loss: 0.6336 - val_out2_loss: 3.5097 - val_out1_acc: 0.8508 - val_out2_acc: 0.4631\n"
     ]
    }
   ],
   "source": [
    "#history = model.fit([X_train, X_train], [y_train,y_train], epochs=1, batch_size=2000)\n",
    "#history = model.fit([trainX, trainX], [trainy,trainy], epochs=16, batch_size=200, validation_data=([testX,testX ],[testy,testy]))\n",
    "\n",
    "#history = model.fit([trainX, trainX], [trainy,trainy], epochs=16, batch_size=200, validation_split=0.33)\n",
    "history = model.fit([trainX, trainX], [trainy,trainy_model2], epochs=16, batch_size=200, validation_split=0.33)"
   ]
  },
  {
   "cell_type": "code",
   "execution_count": 283,
   "metadata": {},
   "outputs": [
    {
     "name": "stdout",
     "output_type": "stream",
     "text": [
      "dict_keys(['val_loss', 'val_out1_loss', 'val_out2_loss', 'val_out1_acc', 'val_out2_acc', 'loss', 'out1_loss', 'out2_loss', 'out1_acc', 'out2_acc'])\n"
     ]
    }
   ],
   "source": [
    "print(history.history.keys())"
   ]
  },
  {
   "cell_type": "code",
   "execution_count": null,
   "metadata": {},
   "outputs": [],
   "source": []
  },
  {
   "cell_type": "code",
   "execution_count": 284,
   "metadata": {},
   "outputs": [],
   "source": [
    "def plot_train_and_val_model1(history):\n",
    "  plt.plot(history.history['out1_acc'])\n",
    "  plt.plot(history.history['val_out1_acc'])\n",
    "  plt.title('model 1 accuracy')\n",
    "  plt.ylabel('accuracy')\n",
    "  plt.xlabel('epoch')\n",
    "  plt.legend(['train', 'Validation'], loc='upper left')\n",
    "  plt.show()\n",
    "  plt.plot(history.history['out1_loss'])\n",
    "  plt.plot(history.history['val_out1_loss'])\n",
    "  plt.title('model 1 loss')\n",
    "  plt.ylabel('loss')\n",
    "  plt.xlabel('epoch')\n",
    "  plt.legend(['train', 'Validation'], loc='upper left')\n",
    "  plt.show()"
   ]
  },
  {
   "cell_type": "code",
   "execution_count": 285,
   "metadata": {},
   "outputs": [
    {
     "data": {
      "image/png": "[encoded data removed]",
      "text/plain": [
       "<Figure size 432x288 with 1 Axes>"
      ]
     },
     "metadata": {
      "needs_background": "light"
     },
     "output_type": "display_data"
    },
    {
     "data": {
      "image/png": "[encoded data removed]",
      "text/plain": [
       "<Figure size 432x288 with 1 Axes>"
      ]
     },
     "metadata": {
      "needs_background": "light"
     },
     "output_type": "display_data"
    }
   ],
   "source": [
    "plot_train_and_val_model1(history)\n"
   ]
  },
  {
   "cell_type": "code",
   "execution_count": 286,
   "metadata": {},
   "outputs": [],
   "source": [
    "def plot_train_and_val_model2(history):\n",
    "  plt.plot(history.history['out2_acc'])\n",
    "  plt.plot(history.history['val_out2_acc'])\n",
    "  plt.title('model 2 accuracy')\n",
    "  plt.ylabel('accuracy')\n",
    "  plt.xlabel('epoch')\n",
    "  plt.legend(['train', 'Validation'], loc='upper left')\n",
    "  plt.show()\n",
    "  plt.plot(history.history['out2_loss'])\n",
    "  plt.plot(history.history['val_out2_loss'])\n",
    "  plt.title('model 2 loss')\n",
    "  plt.ylabel('loss')\n",
    "  plt.xlabel('epoch')\n",
    "  plt.legend(['train', 'Validation'], loc='upper left')\n",
    "  plt.show()"
   ]
  },
  {
   "cell_type": "code",
   "execution_count": 287,
   "metadata": {},
   "outputs": [
    {
     "data": {
      "image/png": "[encoded data removed]",
      "text/plain": [
       "<Figure size 432x288 with 1 Axes>"
      ]
     },
     "metadata": {
      "needs_background": "light"
     },
     "output_type": "display_data"
    },
    {
     "data": {
      "image/png": "[encoded data removed]",
      "text/plain": [
       "<Figure size 432x288 with 1 Axes>"
      ]
     },
     "metadata": {
      "needs_background": "light"
     },
     "output_type": "display_data"
    }
   ],
   "source": [
    "plot_train_and_val_model2(history)\n"
   ]
  },
  {
   "cell_type": "code",
   "execution_count": null,
   "metadata": {},
   "outputs": [],
   "source": []
  },
  {
   "cell_type": "code",
   "execution_count": 288,
   "metadata": {},
   "outputs": [
    {
     "data": {
      "text/plain": [
       "[<matplotlib.lines.Line2D at 0x1af703ea348>]"
      ]
     },
     "execution_count": 288,
     "metadata": {},
     "output_type": "execute_result"
    },
    {
     "data": {
      "image/png": "[encoded data removed]",
      "text/plain": [
       "<Figure size 432x288 with 1 Axes>"
      ]
     },
     "metadata": {
      "needs_background": "light"
     },
     "output_type": "display_data"
    }
   ],
   "source": [
    "plt.plot(history.history['loss'])\n"
   ]
  },
  {
   "cell_type": "code",
   "execution_count": 289,
   "metadata": {},
   "outputs": [
    {
     "data": {
      "text/plain": [
       "[<matplotlib.lines.Line2D at 0x1afa524c308>]"
      ]
     },
     "execution_count": 289,
     "metadata": {},
     "output_type": "execute_result"
    },
    {
     "data": {
      "image/png": "[encoded data removed]",
      "text/plain": [
       "<Figure size 432x288 with 1 Axes>"
      ]
     },
     "metadata": {
      "needs_background": "light"
     },
     "output_type": "display_data"
    }
   ],
   "source": [
    "plt.plot(history.history['val_loss'])\n"
   ]
  },
  {
   "cell_type": "code",
   "execution_count": null,
   "metadata": {},
   "outputs": [],
   "source": []
  },
  {
   "cell_type": "code",
   "execution_count": 290,
   "metadata": {},
   "outputs": [
    {
     "data": {
      "text/plain": [
       "[<matplotlib.lines.Line2D at 0x1afa52ba188>]"
      ]
     },
     "execution_count": 290,
     "metadata": {},
     "output_type": "execute_result"
    },
    {
     "data": {
      "image/png": "[encoded data removed]",
      "text/plain": [
       "<Figure size 432x288 with 1 Axes>"
      ]
     },
     "metadata": {
      "needs_background": "light"
     },
     "output_type": "display_data"
    }
   ],
   "source": [
    "#  loss 1\n",
    "plt.plot(history.history['out1_loss'])"
   ]
  },
  {
   "cell_type": "code",
   "execution_count": 291,
   "metadata": {},
   "outputs": [
    {
     "data": {
      "text/plain": [
       "[<matplotlib.lines.Line2D at 0x1afa5460608>]"
      ]
     },
     "execution_count": 291,
     "metadata": {},
     "output_type": "execute_result"
    },
    {
     "data": {
      "image/png": "[encoded data removed]",
      "text/plain": [
       "<Figure size 432x288 with 1 Axes>"
      ]
     },
     "metadata": {
      "needs_background": "light"
     },
     "output_type": "display_data"
    }
   ],
   "source": [
    "#  loss 2\n",
    "\n",
    "plt.plot(history.history['out2_loss'])\n",
    "\n"
   ]
  },
  {
   "cell_type": "code",
   "execution_count": 292,
   "metadata": {},
   "outputs": [
    {
     "data": {
      "text/plain": [
       "[<matplotlib.lines.Line2D at 0x1afbb09c888>]"
      ]
     },
     "execution_count": 292,
     "metadata": {},
     "output_type": "execute_result"
    },
    {
     "data": {
      "image/png": "[encoded data removed]",
      "text/plain": [
       "<Figure size 432x288 with 1 Axes>"
      ]
     },
     "metadata": {
      "needs_background": "light"
     },
     "output_type": "display_data"
    }
   ],
   "source": [
    "# Accuracy curve model 1\n",
    "plt.plot(history.history['out1_acc'])\n"
   ]
  },
  {
   "cell_type": "code",
   "execution_count": 293,
   "metadata": {},
   "outputs": [
    {
     "data": {
      "text/plain": [
       "[<matplotlib.lines.Line2D at 0x1afbb106ac8>]"
      ]
     },
     "execution_count": 293,
     "metadata": {},
     "output_type": "execute_result"
    },
    {
     "data": {
      "image/png": "[encoded data removed]",
      "text/plain": [
       "<Figure size 432x288 with 1 Axes>"
      ]
     },
     "metadata": {
      "needs_background": "light"
     },
     "output_type": "display_data"
    }
   ],
   "source": [
    "# Accuracy curve model 2\n",
    "plt.plot(history.history['out2_acc'])\n"
   ]
  },
  {
   "cell_type": "code",
   "execution_count": 294,
   "metadata": {},
   "outputs": [
    {
     "data": {
      "text/plain": [
       "(2947, 128, 9)"
      ]
     },
     "execution_count": 294,
     "metadata": {},
     "output_type": "execute_result"
    }
   ],
   "source": [
    "testX.shape\n"
   ]
  },
  {
   "cell_type": "code",
   "execution_count": 295,
   "metadata": {},
   "outputs": [
    {
     "data": {
      "text/plain": [
       "(7352, 1)"
      ]
     },
     "execution_count": 295,
     "metadata": {},
     "output_type": "execute_result"
    }
   ],
   "source": [
    "trainy_model2.shape"
   ]
  },
  {
   "cell_type": "code",
   "execution_count": 296,
   "metadata": {},
   "outputs": [],
   "source": [
    "#TASK 3 CODE"
   ]
  },
  {
   "cell_type": "code",
   "execution_count": 297,
   "metadata": {},
   "outputs": [],
   "source": [
    "from sklearn.metrics import classification_report, confusion_matrix\n",
    "Y_pred = model.predict([testX,testX])\n",
    "\n",
    "\n"
   ]
  },
  {
   "cell_type": "code",
   "execution_count": null,
   "metadata": {},
   "outputs": [],
   "source": []
  },
  {
   "cell_type": "code",
   "execution_count": 298,
   "metadata": {},
   "outputs": [
    {
     "data": {
      "text/plain": [
       "(2947, 4)"
      ]
     },
     "execution_count": 298,
     "metadata": {},
     "output_type": "execute_result"
    }
   ],
   "source": [
    "np.shape(Y_pred[0])"
   ]
  },
  {
   "cell_type": "code",
   "execution_count": 299,
   "metadata": {},
   "outputs": [
    {
     "data": {
      "text/plain": [
       "array([1.7211009e-07, 2.9566111e-18, 1.5721695e-13, 9.9999988e-01],\n",
       "      dtype=float32)"
      ]
     },
     "execution_count": 299,
     "metadata": {},
     "output_type": "execute_result"
    }
   ],
   "source": [
    "one_hot_output =Y_pred[0]\n",
    "one_hot_output[1]"
   ]
  },
  {
   "cell_type": "code",
   "execution_count": 300,
   "metadata": {},
   "outputs": [],
   "source": [
    "one_hot_o = np.argmax(one_hot_output,  axis=1)"
   ]
  },
  {
   "cell_type": "code",
   "execution_count": 301,
   "metadata": {},
   "outputs": [
    {
     "data": {
      "text/plain": [
       "(2947,)"
      ]
     },
     "execution_count": 301,
     "metadata": {},
     "output_type": "execute_result"
    }
   ],
   "source": [
    "one_hot_o.shape"
   ]
  },
  {
   "cell_type": "code",
   "execution_count": null,
   "metadata": {},
   "outputs": [],
   "source": []
  },
  {
   "cell_type": "code",
   "execution_count": 302,
   "metadata": {},
   "outputs": [
    {
     "data": {
      "text/plain": [
       "(2947, 1)"
      ]
     },
     "execution_count": 302,
     "metadata": {},
     "output_type": "execute_result"
    }
   ],
   "source": [
    "#cm = confusion_matrix(np.argmax(y_test,axis=1),y_pred)\n",
    "testy_non_categorical.shape"
   ]
  },
  {
   "cell_type": "code",
   "execution_count": null,
   "metadata": {},
   "outputs": [],
   "source": []
  },
  {
   "cell_type": "code",
   "execution_count": null,
   "metadata": {},
   "outputs": [],
   "source": []
  },
  {
   "cell_type": "code",
   "execution_count": 303,
   "metadata": {},
   "outputs": [],
   "source": [
    "cm = confusion_matrix(testy_non_categorical,one_hot_o)"
   ]
  },
  {
   "cell_type": "code",
   "execution_count": 304,
   "metadata": {},
   "outputs": [
    {
     "name": "stdout",
     "output_type": "stream",
     "text": [
      "[[437   3  27  29   0   0]\n",
      " [ 24 342 105   0   0   0]\n",
      " [153  33 234   0   0   0]\n",
      " [ 18   0   0 473   0   0]\n",
      " [  9   0   0 523   0   0]\n",
      " [  7  20  12 498   0   0]]\n"
     ]
    }
   ],
   "source": [
    "print(cm)"
   ]
  },
  {
   "cell_type": "code",
   "execution_count": 305,
   "metadata": {},
   "outputs": [],
   "source": [
    "#get MSE and you are done"
   ]
  },
  {
   "cell_type": "code",
   "execution_count": 307,
   "metadata": {},
   "outputs": [
    {
     "name": "stdout",
     "output_type": "stream",
     "text": [
      "(2947, 1)\n",
      "(2947, 1)\n",
      "mean_squared_error\n"
     ]
    },
    {
     "data": {
      "text/plain": [
       "3.2643366135052596"
      ]
     },
     "execution_count": 307,
     "metadata": {},
     "output_type": "execute_result"
    }
   ],
   "source": [
    "\n",
    "from sklearn.metrics import mean_squared_error \n",
    "model_out_mobility_score = Y_pred[1]\n",
    "model_out_mobility_score[1:200]\n",
    "print(model_out_mobility_score.shape)\n",
    "print(testy_model2.shape)\n",
    "#mean_squared_error(Y_true,Y_pred) \n",
    "print('mean_squared_error')\n",
    "mean_squared_error(testy_model2,model_out_mobility_score) \n",
    "# use this ----testy_model2\n",
    "\n"
   ]
  },
  {
   "cell_type": "code",
   "execution_count": null,
   "metadata": {},
   "outputs": [],
   "source": []
  },
  {
   "cell_type": "code",
   "execution_count": null,
   "metadata": {},
   "outputs": [],
   "source": []
  },
  {
   "cell_type": "code",
   "execution_count": null,
   "metadata": {},
   "outputs": [],
   "source": [
    "# there is more code below for task 4 an"
   ]
  },
  {
   "cell_type": "code",
   "execution_count": null,
   "metadata": {},
   "outputs": [],
   "source": []
  },
  {
   "cell_type": "code",
   "execution_count": null,
   "metadata": {},
   "outputs": [],
   "source": []
  },
  {
   "cell_type": "code",
   "execution_count": null,
   "metadata": {},
   "outputs": [],
   "source": []
  },
  {
   "cell_type": "code",
   "execution_count": null,
   "metadata": {},
   "outputs": [],
   "source": []
  },
  {
   "cell_type": "code",
   "execution_count": null,
   "metadata": {},
   "outputs": [],
   "source": []
  },
  {
   "cell_type": "code",
   "execution_count": null,
   "metadata": {},
   "outputs": [],
   "source": []
  },
  {
   "cell_type": "code",
   "execution_count": null,
   "metadata": {},
   "outputs": [],
   "source": []
  },
  {
   "cell_type": "code",
   "execution_count": null,
   "metadata": {},
   "outputs": [],
   "source": []
  },
  {
   "cell_type": "code",
   "execution_count": null,
   "metadata": {},
   "outputs": [],
   "source": []
  },
  {
   "cell_type": "code",
   "execution_count": null,
   "metadata": {},
   "outputs": [],
   "source": []
  },
  {
   "cell_type": "code",
   "execution_count": null,
   "metadata": {},
   "outputs": [],
   "source": []
  },
  {
   "cell_type": "code",
   "execution_count": null,
   "metadata": {},
   "outputs": [],
   "source": []
  },
  {
   "cell_type": "code",
   "execution_count": null,
   "metadata": {},
   "outputs": [],
   "source": []
  },
  {
   "cell_type": "code",
   "execution_count": null,
   "metadata": {},
   "outputs": [],
   "source": []
  },
  {
   "cell_type": "code",
   "execution_count": null,
   "metadata": {},
   "outputs": [],
   "source": []
  },
  {
   "cell_type": "code",
   "execution_count": null,
   "metadata": {},
   "outputs": [],
   "source": []
  },
  {
   "cell_type": "code",
   "execution_count": null,
   "metadata": {},
   "outputs": [],
   "source": []
  },
  {
   "cell_type": "code",
   "execution_count": null,
   "metadata": {},
   "outputs": [],
   "source": []
  },
  {
   "cell_type": "code",
   "execution_count": 3,
   "metadata": {},
   "outputs": [],
   "source": [
    "#Consider the original dataset with 6 classes\n",
    "\n",
    "\n",
    "\n"
   ]
  },
  {
   "cell_type": "code",
   "execution_count": 7,
   "metadata": {},
   "outputs": [
    {
     "name": "stdout",
     "output_type": "stream",
     "text": [
      "(7352, 128, 9) (7352, 1)\n",
      "(2947, 128, 9) (2947, 1)\n",
      "(7352, 128, 9) (7352, 6) (2947, 128, 9) (2947, 6)\n"
     ]
    },
    {
     "data": {
      "text/plain": [
       "(7352, 128, 9)"
      ]
     },
     "execution_count": 7,
     "metadata": {},
     "output_type": "execute_result"
    }
   ],
   "source": [
    "\n"
   ]
  },
  {
   "cell_type": "code",
   "execution_count": 310,
   "metadata": {},
   "outputs": [
    {
     "name": "stdout",
     "output_type": "stream",
     "text": [
      "(7352, 128, 6) (7352, 1)\n",
      "(2947, 128, 6) (2947, 1)\n",
      "(7352, 128, 6) (7352, 6) (2947, 128, 6) (2947, 6)\n",
      "_________________________________________________________________\n",
      "Layer (type)                 Output Shape              Param #   \n",
      "=================================================================\n",
      "input_31 (InputLayer)        (None, 128, 6)            0         \n",
      "_________________________________________________________________\n",
      "lstm_177 (LSTM)              (None, 100)               42800     \n",
      "_________________________________________________________________\n",
      "repeat_vector_41 (RepeatVect (None, 1, 100)            0         \n",
      "_________________________________________________________________\n",
      "lstm_179 (LSTM)              (None, 1, 100)            80400     \n",
      "_________________________________________________________________\n",
      "lstm_180 (LSTM)              (None, 1, 100)            80400     \n",
      "_________________________________________________________________\n",
      "lstm_181 (LSTM)              (None, 100)               80400     \n",
      "_________________________________________________________________\n",
      "dense_34 (Dense)             (None, 6)                 606       \n",
      "=================================================================\n",
      "Total params: 284,606\n",
      "Trainable params: 284,606\n",
      "Non-trainable params: 0\n",
      "_________________________________________________________________\n",
      "None\n",
      "Train on 7352 samples, validate on 2947 samples\n",
      "Epoch 1/15\n",
      "7352/7352 [==============================] - 71s 10ms/step - loss: 5.0971 - acc: 0.2637 - val_loss: 13.1811 - val_acc: 0.1822\n",
      "Epoch 2/15\n",
      "7352/7352 [==============================] - 22s 3ms/step - loss: 13.0335 - acc: 0.1914 - val_loss: 13.1811 - val_acc: 0.1822\n",
      "Epoch 3/15\n",
      "7352/7352 [==============================] - 20s 3ms/step - loss: 13.0335 - acc: 0.1914 - val_loss: 13.1811 - val_acc: 0.1822\n",
      "Epoch 4/15\n",
      "7352/7352 [==============================] - 20s 3ms/step - loss: 13.0335 - acc: 0.1914 - val_loss: 13.1811 - val_acc: 0.1822\n",
      "Epoch 5/15\n",
      "7352/7352 [==============================] - 21s 3ms/step - loss: 13.0335 - acc: 0.1914 - val_loss: 13.1811 - val_acc: 0.1822\n",
      "Epoch 6/15\n",
      "7352/7352 [==============================] - 16s 2ms/step - loss: 13.0335 - acc: 0.1914 - val_loss: 13.1811 - val_acc: 0.1822\n",
      "Epoch 7/15\n",
      "7352/7352 [==============================] - 18s 2ms/step - loss: 13.0335 - acc: 0.1914 - val_loss: 13.1811 - val_acc: 0.1822\n",
      "Epoch 8/15\n",
      "7352/7352 [==============================] - 19s 3ms/step - loss: 13.0335 - acc: 0.1914 - val_loss: 13.1811 - val_acc: 0.1822\n",
      "Epoch 9/15\n",
      "7352/7352 [==============================] - 18s 2ms/step - loss: 13.0335 - acc: 0.1914 - val_loss: 13.1811 - val_acc: 0.1822\n",
      "Epoch 10/15\n",
      "7352/7352 [==============================] - 19s 3ms/step - loss: 13.0335 - acc: 0.1914 - val_loss: 13.1811 - val_acc: 0.1822\n",
      "Epoch 11/15\n",
      "7352/7352 [==============================] - 20s 3ms/step - loss: 13.0335 - acc: 0.1914 - val_loss: 13.1811 - val_acc: 0.1822\n",
      "Epoch 12/15\n",
      "7352/7352 [==============================] - 20s 3ms/step - loss: 13.0335 - acc: 0.1914 - val_loss: 13.1811 - val_acc: 0.1822\n",
      "Epoch 13/15\n",
      "7352/7352 [==============================] - 18s 2ms/step - loss: 13.0335 - acc: 0.1914 - val_loss: 13.1811 - val_acc: 0.1822\n",
      "Epoch 14/15\n",
      "7352/7352 [==============================] - 18s 2ms/step - loss: 13.0335 - acc: 0.1914 - val_loss: 13.1811 - val_acc: 0.1822\n",
      "Epoch 15/15\n",
      "7352/7352 [==============================] - 18s 3ms/step - loss: 13.0335 - acc: 0.1914 - val_loss: 13.1811 - val_acc: 0.1822\n"
     ]
    }
   ],
   "source": [
    "# useful acc model\n",
    "import keras\n",
    "from keras.layers import Input, Dense , Concatenate\n",
    "from keras.models import Model\n",
    "# This returns a tensor\n",
    "verbose, epochs, batch_size = 0, 15, 4000\n",
    "trainX, trainy, testX, testy = load_acc_dataset(prefix=directory_for_the_data)\n",
    "n_timesteps, n_features, n_outputs = trainX.shape[1], trainX.shape[2], trainy.shape[1]\n",
    "\n",
    "inputs  = Input(shape=(128,6))\n",
    "#inputs2 = Input(shape=(128,6))\n",
    "# a layer instance is callable on a tensor, and returns a tensor\n",
    "#lstm_1 = LSTM(100, dropout=0.2, recurrent_dropout=0.2, activation='relu')(inputs)\n",
    "lstm_1 = LSTM(100,  activation='relu')(inputs)\n",
    "lstm_2 = LSTM(100,  activation='relu')(inputs2)\n",
    "#Merge2 =  keras.layers.concatenate([lstm_1, lstm_2])\n",
    "Rvec =    keras.layers.RepeatVector(1)(lstm_1)\n",
    "#lstm_m_1 = LSTM(100, activation='relu', return_sequences=True)(Rvec)\n",
    "lstm_m_1 = LSTM(100, activation='relu', return_sequences=True)(Rvec)\n",
    "#Rvec2  = keras.layers.RepeatVector(3)(lstm_m_1)\n",
    "lstm_m_2 = LSTM(100,  activation='relu', return_sequences=True)(lstm_m_1)\n",
    "#Rvec3  = keras.layers.RepeatVector(1)(lstm_m_2)\n",
    "lstm_o_1= LSTM(100, activation='relu')(lstm_m_2)\n",
    "lstm_o_2= LSTM(100, activation='relu')(lstm_m_2)\n",
    "\n",
    "output1= Dense(6, activation=\"softmax\")(lstm_o_1)\n",
    "#output2= Dense(6, activation=\"softmax\")(lstm_o_2)\n",
    "\n",
    "\n",
    "#x1 = Dense(64, activation='relu')(Merge2)\n",
    "#x2 = Dense(64, activation='relu')(Merge2)\n",
    "#lstm_o_2 = LSTM(100, dropout=0.2, recurrent_dropout=0.2, activation='relu')(inputs)\n",
    "\n",
    "#output_2 = Dense(64, activation='relu')(Merge2)\n",
    "#predictions = Dense(10, activation='softmax')(output_2)\n",
    "# This creates a model that includes # the Input layer and three Dense layers\n",
    "#model = Model(inputs=[inputs, inputs2] , outputs=[x1, x2])\n",
    "acc_model_n = Model(inputs=[inputs] , outputs=[output1])\n",
    "print(acc_model_n.summary())\n",
    "#model.compile(optimizer='rmsprop',loss='categorical_crossentropy', metrics=['accuracy']) \n",
    "#model.fit(data, labels) # starts training\n",
    "\n",
    "m=256\n",
    "n_epoch =25\n",
    "acc_model_n.compile(optimizer ='adam', loss =['categorical_crossentropy'], loss_weights = [1.0], metrics= ['accuracy'])\n",
    "history_acc = acc_model_n.fit(trainX, trainy, epochs=15, batch_size=200 , validation_data=(testX, testy))"
   ]
  },
  {
   "cell_type": "code",
   "execution_count": 312,
   "metadata": {},
   "outputs": [
    {
     "data": {
      "image/png": "[encoded data removed]",
      "text/plain": [
       "<Figure size 432x288 with 1 Axes>"
      ]
     },
     "metadata": {
      "needs_background": "light"
     },
     "output_type": "display_data"
    },
    {
     "data": {
      "image/png": "[encoded data removed]",
      "text/plain": [
       "<Figure size 432x288 with 1 Axes>"
      ]
     },
     "metadata": {
      "needs_background": "light"
     },
     "output_type": "display_data"
    }
   ],
   "source": [
    "plot_train_and_val(history_acc)"
   ]
  },
  {
   "cell_type": "code",
   "execution_count": null,
   "metadata": {},
   "outputs": [],
   "source": []
  },
  {
   "cell_type": "code",
   "execution_count": 32,
   "metadata": {},
   "outputs": [
    {
     "name": "stdout",
     "output_type": "stream",
     "text": [
      "(7352, 128, 6) (7352, 1)\n",
      "(2947, 128, 6) (2947, 1)\n",
      "(7352, 128, 6) (7352, 6) (2947, 128, 6) (2947, 6)\n"
     ]
    },
    {
     "data": {
      "text/plain": [
       "(7352, 128, 6)"
      ]
     },
     "execution_count": 32,
     "metadata": {},
     "output_type": "execute_result"
    }
   ],
   "source": []
  },
  {
   "cell_type": "code",
   "execution_count": 308,
   "metadata": {},
   "outputs": [
    {
     "name": "stdout",
     "output_type": "stream",
     "text": [
      "(7352, 128, 3) (7352, 1)\n",
      "(2947, 128, 3) (2947, 1)\n",
      "(7352, 128, 3) (7352, 6) (2947, 128, 3) (2947, 6)\n",
      "_________________________________________________________________\n",
      "Layer (type)                 Output Shape              Param #   \n",
      "=================================================================\n",
      "input_30 (InputLayer)        (None, 128, 3)            0         \n",
      "_________________________________________________________________\n",
      "lstm_171 (LSTM)              (None, 100)               41600     \n",
      "_________________________________________________________________\n",
      "repeat_vector_40 (RepeatVect (None, 1, 100)            0         \n",
      "_________________________________________________________________\n",
      "lstm_173 (LSTM)              (None, 1, 100)            80400     \n",
      "_________________________________________________________________\n",
      "lstm_174 (LSTM)              (None, 1, 100)            80400     \n",
      "_________________________________________________________________\n",
      "lstm_175 (LSTM)              (None, 100)               80400     \n",
      "_________________________________________________________________\n",
      "dense_33 (Dense)             (None, 6)                 606       \n",
      "=================================================================\n",
      "Total params: 283,406\n",
      "Trainable params: 283,406\n",
      "Non-trainable params: 0\n",
      "_________________________________________________________________\n",
      "None\n",
      "Train on 7352 samples, validate on 2947 samples\n",
      "Epoch 1/18\n",
      "7352/7352 [==============================] - 69s 9ms/step - loss: 1.8188 - acc: 0.1933 - val_loss: 1.7794 - val_acc: 0.1856\n",
      "Epoch 2/18\n",
      "7352/7352 [==============================] - 19s 3ms/step - loss: 1.7259 - acc: 0.2976 - val_loss: 1.6020 - val_acc: 0.3366\n",
      "Epoch 3/18\n",
      "7352/7352 [==============================] - 19s 3ms/step - loss: 1.4001 - acc: 0.3273 - val_loss: 1.2299 - val_acc: 0.3651\n",
      "Epoch 4/18\n",
      "7352/7352 [==============================] - 17s 2ms/step - loss: 1.1833 - acc: 0.3532 - val_loss: 1.1556 - val_acc: 0.3712\n",
      "Epoch 5/18\n",
      "7352/7352 [==============================] - 18s 2ms/step - loss: 1.1524 - acc: 0.3606 - val_loss: 1.1548 - val_acc: 0.3458\n",
      "Epoch 6/18\n",
      "7352/7352 [==============================] - 17s 2ms/step - loss: 1.1503 - acc: 0.3624 - val_loss: 1.1498 - val_acc: 0.3482\n",
      "Epoch 7/18\n",
      "7352/7352 [==============================] - 19s 3ms/step - loss: 1.1454 - acc: 0.3575 - val_loss: 1.1457 - val_acc: 0.3678\n",
      "Epoch 8/18\n",
      "7352/7352 [==============================] - 20s 3ms/step - loss: 1.1420 - acc: 0.3662 - val_loss: 1.1397 - val_acc: 0.3634\n",
      "Epoch 9/18\n",
      "7352/7352 [==============================] - 17s 2ms/step - loss: 1.1397 - acc: 0.3621 - val_loss: 1.1376 - val_acc: 0.3726\n",
      "Epoch 10/18\n",
      "7352/7352 [==============================] - 17s 2ms/step - loss: 1.1399 - acc: 0.3640 - val_loss: 1.1387 - val_acc: 0.3695\n",
      "Epoch 11/18\n",
      "7352/7352 [==============================] - 17s 2ms/step - loss: 1.1386 - acc: 0.3732 - val_loss: 1.1367 - val_acc: 0.3967\n",
      "Epoch 12/18\n",
      "7352/7352 [==============================] - 17s 2ms/step - loss: 1.1346 - acc: 0.3686 - val_loss: 1.1351 - val_acc: 0.3926\n",
      "Epoch 13/18\n",
      "7352/7352 [==============================] - 18s 2ms/step - loss: 1.1345 - acc: 0.3746 - val_loss: 1.1314 - val_acc: 0.3821\n",
      "Epoch 14/18\n",
      "7352/7352 [==============================] - 17s 2ms/step - loss: 1.1297 - acc: 0.3670 - val_loss: 1.1299 - val_acc: 0.4031\n",
      "Epoch 15/18\n",
      "7352/7352 [==============================] - 17s 2ms/step - loss: 1.1264 - acc: 0.3837 - val_loss: 1.1300 - val_acc: 0.3777\n",
      "Epoch 16/18\n",
      "7352/7352 [==============================] - 17s 2ms/step - loss: 1.1241 - acc: 0.3867 - val_loss: 1.1349 - val_acc: 0.3879\n",
      "Epoch 17/18\n",
      "7352/7352 [==============================] - 17s 2ms/step - loss: 1.1216 - acc: 0.3856 - val_loss: 1.1350 - val_acc: 0.3726\n",
      "Epoch 18/18\n",
      "7352/7352 [==============================] - 18s 2ms/step - loss: 1.1221 - acc: 0.3867 - val_loss: 1.1257 - val_acc: 0.4106\n"
     ]
    }
   ],
   "source": [
    "# useful new  gyro model\n",
    "import keras\n",
    "from keras.layers import Input, Dense , Concatenate\n",
    "from keras.models import Model\n",
    "# This returns a tensor\n",
    "verbose, epochs, batch_size = 0, 15, 4000\n",
    "trainX, trainy, testX, testy = load_gyro_dataset(prefix=directory_for_the_data)\n",
    "n_timesteps, n_features, n_outputs = trainX.shape[1], trainX.shape[2], trainy.shape[1]\n",
    "\n",
    "inputs  = Input(shape=(128,3))\n",
    "#inputs2 = Input(shape=(128,6))\n",
    "# a layer instance is callable on a tensor, and returns a tensor\n",
    "#lstm_1 = LSTM(100, dropout=0.2, recurrent_dropout=0.2, activation='relu')(inputs)\n",
    "lstm_1 = LSTM(100,  activation='relu')(inputs)\n",
    "lstm_2 = LSTM(100,  activation='relu')(inputs2)\n",
    "#Merge2 =  keras.layers.concatenate([lstm_1, lstm_2])\n",
    "Rvec =    keras.layers.RepeatVector(1)(lstm_1)\n",
    "#lstm_m_1 = LSTM(100, activation='relu', return_sequences=True)(Rvec)\n",
    "lstm_m_1 = LSTM(100, activation='relu', return_sequences=True)(Rvec)\n",
    "#Rvec2  = keras.layers.RepeatVector(3)(lstm_m_1)\n",
    "lstm_m_2 = LSTM(100,  activation='relu', return_sequences=True)(lstm_m_1)\n",
    "#Rvec3  = keras.layers.RepeatVector(1)(lstm_m_2)\n",
    "lstm_o_1= LSTM(100, activation='relu')(lstm_m_2)\n",
    "lstm_o_2= LSTM(100, activation='relu')(lstm_m_2)\n",
    "\n",
    "output1= Dense(6, activation=\"softmax\")(lstm_o_1)\n",
    "#output2= Dense(6, activation=\"softmax\")(lstm_o_2)\n",
    "\n",
    "\n",
    "#x1 = Dense(64, activation='relu')(Merge2)\n",
    "#x2 = Dense(64, activation='relu')(Merge2)\n",
    "#lstm_o_2 = LSTM(100, dropout=0.2, recurrent_dropout=0.2, activation='relu')(inputs)\n",
    "\n",
    "#output_2 = Dense(64, activation='relu')(Merge2)\n",
    "#predictions = Dense(10, activation='softmax')(output_2)\n",
    "# This creates a model that includes # the Input layer and three Dense layers\n",
    "#model = Model(inputs=[inputs, inputs2] , outputs=[x1, x2])\n",
    "gyro_model_n = Model(inputs=[inputs] , outputs=[output1])\n",
    "print(gyro_model_n.summary())\n",
    "#model.compile(optimizer='rmsprop',loss='categorical_crossentropy', metrics=['accuracy']) \n",
    "#model.fit(data, labels) # starts training\n",
    "\n",
    "m=256\n",
    "n_epoch =25\n",
    "gyro_model_n.compile(optimizer ='adam', loss =['categorical_crossentropy'], loss_weights = [1.0], metrics= ['accuracy'])\n",
    "history_gyro_n = gyro_model_n.fit(trainX, trainy, epochs=18, batch_size=200 , validation_data=(testX, testy))"
   ]
  },
  {
   "cell_type": "code",
   "execution_count": 313,
   "metadata": {},
   "outputs": [
    {
     "data": {
      "image/png": "[encoded data removed]",
      "text/plain": [
       "<Figure size 432x288 with 1 Axes>"
      ]
     },
     "metadata": {
      "needs_background": "light"
     },
     "output_type": "display_data"
    },
    {
     "data": {
      "image/png": "[encoded data removed]",
      "text/plain": [
       "<Figure size 432x288 with 1 Axes>"
      ]
     },
     "metadata": {
      "needs_background": "light"
     },
     "output_type": "display_data"
    }
   ],
   "source": [
    "plot_train_and_val(history_gyro_n)"
   ]
  },
  {
   "cell_type": "code",
   "execution_count": 314,
   "metadata": {},
   "outputs": [
    {
     "name": "stdout",
     "output_type": "stream",
     "text": [
      "input_30\n",
      "lstm_171\n",
      "repeat_vector_40\n",
      "lstm_173\n",
      "lstm_174\n",
      "lstm_175\n"
     ]
    }
   ],
   "source": [
    "\n",
    "for layer_g in gyro_model_n.layers[:6]:\n",
    "    layer_g.trainable=False\n",
    "    print(layer_g.name)\n"
   ]
  },
  {
   "cell_type": "code",
   "execution_count": 46,
   "metadata": {},
   "outputs": [],
   "source": [
    "inputs  = gyro_model_n.output"
   ]
  },
  {
   "cell_type": "code",
   "execution_count": 49,
   "metadata": {},
   "outputs": [
    {
     "name": "stdout",
     "output_type": "stream",
     "text": [
      "(7352, 128, 6) (7352, 1)\n",
      "(2947, 128, 6) (2947, 1)\n",
      "(7352, 128, 6) (7352, 6) (2947, 128, 6) (2947, 6)\n"
     ]
    },
    {
     "data": {
      "text/plain": [
       "(7352, 128, 3)"
      ]
     },
     "execution_count": 49,
     "metadata": {},
     "output_type": "execute_result"
    }
   ],
   "source": [
    "import numpy as np\n",
    "trainX, trainy, testX, testy = load_acc_dataset(prefix=directory_for_the_data)\n",
    "trainX = trainX[:,:,0:3]\n",
    "np.shape(trainX)"
   ]
  },
  {
   "cell_type": "code",
   "execution_count": 52,
   "metadata": {},
   "outputs": [
    {
     "name": "stdout",
     "output_type": "stream",
     "text": [
      "(7352, 128, 3) (7352, 1)\n",
      "(2947, 128, 3) (2947, 1)\n",
      "(7352, 128, 3) (7352, 6) (2947, 128, 3) (2947, 6)\n",
      "_________________________________________________________________\n",
      "Layer (type)                 Output Shape              Param #   \n",
      "=================================================================\n",
      "input_10 (InputLayer)        (None, 128, 3)            0         \n",
      "_________________________________________________________________\n",
      "lstm_38 (LSTM)               (None, 100)               41600     \n",
      "_________________________________________________________________\n",
      "repeat_vector_7 (RepeatVecto (None, 1, 100)            0         \n",
      "_________________________________________________________________\n",
      "lstm_40 (LSTM)               (None, 1, 100)            80400     \n",
      "_________________________________________________________________\n",
      "lstm_41 (LSTM)               (None, 1, 100)            80400     \n",
      "_________________________________________________________________\n",
      "lstm_42 (LSTM)               (None, 100)               80400     \n",
      "_________________________________________________________________\n",
      "dense_12 (Dense)             (None, 6)                 606       \n",
      "_________________________________________________________________\n",
      "repeat_vector_8 (RepeatVecto (None, 1, 6)              0         \n",
      "_________________________________________________________________\n",
      "lstm_44 (LSTM)               (None, 100)               42800     \n",
      "_________________________________________________________________\n",
      "repeat_vector_9 (RepeatVecto (None, 1, 100)            0         \n",
      "_________________________________________________________________\n",
      "lstm_46 (LSTM)               (None, 1, 100)            80400     \n",
      "_________________________________________________________________\n",
      "lstm_47 (LSTM)               (None, 1, 100)            80400     \n",
      "_________________________________________________________________\n",
      "lstm_48 (LSTM)               (None, 100)               80400     \n",
      "_________________________________________________________________\n",
      "dense_13 (Dense)             (None, 6)                 606       \n",
      "_________________________________________________________________\n",
      "repeat_vector_12 (RepeatVect (None, 1, 6)              0         \n",
      "_________________________________________________________________\n",
      "lstm_56 (LSTM)               (None, 100)               42800     \n",
      "_________________________________________________________________\n",
      "repeat_vector_13 (RepeatVect (None, 1, 100)            0         \n",
      "_________________________________________________________________\n",
      "lstm_58 (LSTM)               (None, 1, 100)            80400     \n",
      "_________________________________________________________________\n",
      "lstm_59 (LSTM)               (None, 1, 100)            80400     \n",
      "_________________________________________________________________\n",
      "lstm_60 (LSTM)               (None, 100)               80400     \n",
      "_________________________________________________________________\n",
      "dense_15 (Dense)             (None, 6)                 606       \n",
      "_________________________________________________________________\n",
      "repeat_vector_28 (RepeatVect (None, 1, 6)              0         \n",
      "_________________________________________________________________\n",
      "lstm_104 (LSTM)              (None, 100)               42800     \n",
      "_________________________________________________________________\n",
      "repeat_vector_29 (RepeatVect (None, 1, 100)            0         \n",
      "_________________________________________________________________\n",
      "lstm_106 (LSTM)              (None, 1, 100)            80400     \n",
      "_________________________________________________________________\n",
      "lstm_107 (LSTM)              (None, 1, 100)            80400     \n",
      "_________________________________________________________________\n",
      "lstm_108 (LSTM)              (None, 100)               80400     \n",
      "_________________________________________________________________\n",
      "dense_23 (Dense)             (None, 6)                 606       \n",
      "=================================================================\n",
      "Total params: 1,137,224\n",
      "Trainable params: 854,424\n",
      "Non-trainable params: 282,800\n",
      "_________________________________________________________________\n",
      "None\n",
      "Train on 7352 samples, validate on 2947 samples\n",
      "Epoch 1/10\n",
      "7352/7352 [==============================] - 31s 4ms/step - loss: 1.7916 - acc: 0.1825 - val_loss: 1.7914 - val_acc: 0.1805\n",
      "Epoch 2/10\n",
      "7352/7352 [==============================] - 4s 504us/step - loss: 1.7910 - acc: 0.1869 - val_loss: 1.7911 - val_acc: 0.1805\n",
      "Epoch 3/10\n",
      "7352/7352 [==============================] - 4s 527us/step - loss: 1.7904 - acc: 0.1869 - val_loss: 1.7908 - val_acc: 0.1805\n",
      "Epoch 4/10\n",
      "7352/7352 [==============================] - 3s 454us/step - loss: 1.7899 - acc: 0.1869 - val_loss: 1.7905 - val_acc: 0.1805\n",
      "Epoch 5/10\n",
      "7352/7352 [==============================] - 3s 450us/step - loss: 1.7892 - acc: 0.1869 - val_loss: 1.7902 - val_acc: 0.1805\n",
      "Epoch 6/10\n",
      "7352/7352 [==============================] - 4s 495us/step - loss: 1.7886 - acc: 0.1869 - val_loss: 1.7899 - val_acc: 0.1805\n",
      "Epoch 7/10\n",
      "7352/7352 [==============================] - 3s 472us/step - loss: 1.7880 - acc: 0.1869 - val_loss: 1.7896 - val_acc: 0.1805\n",
      "Epoch 8/10\n",
      "7352/7352 [==============================] - 3s 442us/step - loss: 1.7874 - acc: 0.1869 - val_loss: 1.7894 - val_acc: 0.1805\n",
      "Epoch 9/10\n",
      "7352/7352 [==============================] - 4s 494us/step - loss: 1.7868 - acc: 0.1869 - val_loss: 1.7892 - val_acc: 0.1805\n",
      "Epoch 10/10\n",
      "7352/7352 [==============================] - 3s 446us/step - loss: 1.7862 - acc: 0.1869 - val_loss: 1.7890 - val_acc: 0.1805\n"
     ]
    }
   ],
   "source": [
    "# Now remove the Output layer of LSTM1and add three more layer to build LSTM2\n",
    "\n",
    "#trial 1 transfer_learning new model\n",
    "\n",
    "import keras\n",
    "from keras.layers import Input, Dense , Concatenate\n",
    "from keras.layers import Dropout\n",
    "#gyro_model.add(Dropout(0.5))\n",
    "from keras.models import Model\n",
    "\n",
    "\n",
    "\n",
    "for layer_g in gyro_model_n.layers[:6]:\n",
    "    layer_g.trainable=False\n",
    "\n",
    "    \n",
    "verbose, epochs, batch_size = 0, 15, 4000\n",
    "#trainX, trainy, testX, testy = load_acc_dataset(prefix=directory_for_the_data)\n",
    "#trainX = train3[:,:,0:3]\n",
    "\n",
    "trainX, trainy, testX, testy = load_gyro_dataset(prefix=directory_for_the_data)\n",
    "n_timesteps, n_features, n_outputs = trainX.shape[1], trainX.shape[2], trainy.shape[1]\n",
    "\n",
    "inputs  = gyro_model_n.output\n",
    "#inputs  = Input(shape=(128,6))\n",
    "#inputs2 = Input(shape=(128,6))\n",
    "# a layer instance is callable on a tensor, and returns a tensor\n",
    "#lstm_1 = LSTM(100, dropout=0.2, recurrent_dropout=0.2, activation='relu')(inputs)\n",
    "Rvec1 =    keras.layers.RepeatVector(1)(inputs)\n",
    "\n",
    "#lstm_1 = LSTM(100,  activation='relu')(inputs)\n",
    "lstm_1 = LSTM(100,  activation='relu')(Rvec1)\n",
    "\n",
    "lstm_2 = LSTM(100,  activation='relu')(inputs2)\n",
    "#Merge2 =  keras.layers.concatenate([lstm_1, lstm_2])\n",
    "Rvec =    keras.layers.RepeatVector(1)(lstm_1)\n",
    "#lstm_m_1 = LSTM(100, activation='relu', return_sequences=True)(Rvec)\n",
    "lstm_m_1 = LSTM(100, activation='relu', return_sequences=True)(Rvec)\n",
    "#Rvec2  = keras.layers.RepeatVector(3)(lstm_m_1)\n",
    "lstm_m_2 = LSTM(100,  activation='relu', return_sequences=True)(lstm_m_1)\n",
    "#Rvec3  = keras.layers.RepeatVector(1)(lstm_m_2)\n",
    "lstm_o_1= LSTM(100, activation='relu')(lstm_m_2)\n",
    "lstm_o_2= LSTM(100, activation='relu')(lstm_m_2)\n",
    "\n",
    "output1= Dense(6, activation=\"softmax\")(lstm_o_1)\n",
    "#output2= Dense(6, activation=\"softmax\")(lstm_o_2)\n",
    "\n",
    "\n",
    "#x1 = Dense(64, activation='relu')(Merge2)\n",
    "#x2 = Dense(64, activation='relu')(Merge2)\n",
    "#lstm_o_2 = LSTM(100, dropout=0.2, recurrent_dropout=0.2, activation='relu')(inputs)\n",
    "\n",
    "#output_2 = Dense(64, activation='relu')(Merge2)\n",
    "#predictions = Dense(10, activation='softmax')(output_2)\n",
    "# This creates a model that includes # the Input layer and three Dense layers\n",
    "#model = Model(inputs=[inputs, inputs2] , outputs=[x1, x2])\n",
    "transfer_learning_model_n = Model(inputs=[gyro_model_n.input] , outputs=[output1])\n",
    "print(transfer_learning_model_n.summary())\n",
    "#model.compile(optimizer='rmsprop',loss='categorical_crossentropy', metrics=['accuracy']) \n",
    "#model.fit(data, labels) # starts training\n",
    "\n",
    "\n",
    "\n",
    "m=256\n",
    "n_epoch =25\n",
    "transfer_learning_model_n.compile(optimizer ='adam', loss =['categorical_crossentropy'], loss_weights = [1.0], metrics= ['accuracy'])\n",
    "history_transfer_learning_model = transfer_learning_model_n.fit(trainX, trainy, epochs=10, batch_size=200 , validation_data=(testX, testy))"
   ]
  },
  {
   "cell_type": "code",
   "execution_count": 53,
   "metadata": {},
   "outputs": [
    {
     "data": {
      "image/png": "[encoded data removed]",
      "text/plain": [
       "<Figure size 432x288 with 1 Axes>"
      ]
     },
     "metadata": {
      "needs_background": "light"
     },
     "output_type": "display_data"
    },
    {
     "data": {
      "image/png": "[encoded data removed]",
      "text/plain": [
       "<Figure size 432x288 with 1 Axes>"
      ]
     },
     "metadata": {
      "needs_background": "light"
     },
     "output_type": "display_data"
    }
   ],
   "source": [
    "plot_train_and_val(history_transfer_learning_model)"
   ]
  },
  {
   "cell_type": "code",
   "execution_count": null,
   "metadata": {},
   "outputs": [],
   "source": []
  },
  {
   "cell_type": "code",
   "execution_count": null,
   "metadata": {},
   "outputs": [],
   "source": []
  },
  {
   "cell_type": "code",
   "execution_count": null,
   "metadata": {},
   "outputs": [],
   "source": []
  },
  {
   "cell_type": "code",
   "execution_count": 16,
   "metadata": {},
   "outputs": [
    {
     "name": "stdout",
     "output_type": "stream",
     "text": [
      "3\n",
      "0 lstm_6\n",
      "1 dropout_6\n",
      "2 dense_11\n",
      "3 dense_12\n"
     ]
    }
   ],
   "source": []
  },
  {
   "cell_type": "code",
   "execution_count": 19,
   "metadata": {},
   "outputs": [],
   "source": [
    "\n"
   ]
  },
  {
   "cell_type": "code",
   "execution_count": null,
   "metadata": {},
   "outputs": [],
   "source": []
  },
  {
   "cell_type": "code",
   "execution_count": null,
   "metadata": {},
   "outputs": [],
   "source": []
  },
  {
   "cell_type": "code",
   "execution_count": null,
   "metadata": {
    "scrolled": false
   },
   "outputs": [],
   "source": []
  },
  {
   "cell_type": "code",
   "execution_count": null,
   "metadata": {},
   "outputs": [],
   "source": []
  },
  {
   "cell_type": "code",
   "execution_count": null,
   "metadata": {},
   "outputs": [],
   "source": []
  },
  {
   "cell_type": "code",
   "execution_count": null,
   "metadata": {},
   "outputs": [],
   "source": []
  },
  {
   "cell_type": "code",
   "execution_count": null,
   "metadata": {},
   "outputs": [],
   "source": []
  },
  {
   "cell_type": "code",
   "execution_count": null,
   "metadata": {},
   "outputs": [],
   "source": []
  },
  {
   "cell_type": "code",
   "execution_count": null,
   "metadata": {},
   "outputs": [],
   "source": []
  },
  {
   "cell_type": "code",
   "execution_count": null,
   "metadata": {},
   "outputs": [],
   "source": []
  }
 ],
 "metadata": {
  "colab": {
   "collapsed_sections": [],
   "name": "LSTM.ipynb",
   "provenance": [],
   "version": "0.3.2"
  },
  "kernelspec": {
   "display_name": "Python 3",
   "language": "python",
   "name": "python3"
  },
  "language_info": {
   "codemirror_mode": {
    "name": "ipython",
    "version": 3
   },
   "file_extension": ".py",
   "mimetype": "text/x-python",
   "name": "python",
   "nbconvert_exporter": "python",
   "pygments_lexer": "ipython3",
   "version": "3.7.6"
  }
 },
 "nbformat": 4,
 "nbformat_minor": 1
}
